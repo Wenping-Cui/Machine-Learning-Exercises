{
 "cells": [
  {
   "cell_type": "markdown",
   "metadata": {
    "toc": true
   },
   "source": [
    "<h1>Table of Contents<span class=\"tocSkip\"></span></h1>\n",
    "<div class=\"toc\"><ul class=\"toc-item\"><li><span><a href=\"#Useful-Commands\" data-toc-modified-id=\"Useful-Commands-1\"><span class=\"toc-item-num\">1&nbsp;&nbsp;</span>Useful Commands</a></span><ul class=\"toc-item\"><li><span><a href=\"#login-remotely\" data-toc-modified-id=\"login-remotely-1.1\"><span class=\"toc-item-num\">1.1&nbsp;&nbsp;</span>login remotely</a></span></li><li><span><a href=\"#start-jupyter-notebook-remotely\" data-toc-modified-id=\"start-jupyter-notebook-remotely-1.2\"><span class=\"toc-item-num\">1.2&nbsp;&nbsp;</span>start jupyter notebook remotely</a></span></li><li><span><a href=\"#Conda-Environment\" data-toc-modified-id=\"Conda-Environment-1.3\"><span class=\"toc-item-num\">1.3&nbsp;&nbsp;</span>Conda Environment</a></span></li><li><span><a href=\"#Check-GPU-use\" data-toc-modified-id=\"Check-GPU-use-1.4\"><span class=\"toc-item-num\">1.4&nbsp;&nbsp;</span>Check GPU use</a></span></li></ul></li><li><span><a href=\"#Example-for-Monte-Carlo-Integration-for-Pi-with-CPU\" data-toc-modified-id=\"Example-for-Monte-Carlo-Integration-for-Pi-with-CPU-2\"><span class=\"toc-item-num\">2&nbsp;&nbsp;</span>Example for Monte Carlo Integration for Pi with CPU</a></span></li><li><span><a href=\"#Example-for-Multivariate-Gaussian-Integrals-with-Monte-Carlo\" data-toc-modified-id=\"Example-for-Multivariate-Gaussian-Integrals-with-Monte-Carlo-3\"><span class=\"toc-item-num\">3&nbsp;&nbsp;</span>Example for Multivariate Gaussian Integrals with Monte Carlo</a></span><ul class=\"toc-item\"><li><span><a href=\"#Implement-on-Pytorch\" data-toc-modified-id=\"Implement-on-Pytorch-3.1\"><span class=\"toc-item-num\">3.1&nbsp;&nbsp;</span>Implement on Pytorch</a></span></li><li><span><a href=\"#Implement-on-Numpy\" data-toc-modified-id=\"Implement-on-Numpy-3.2\"><span class=\"toc-item-num\">3.2&nbsp;&nbsp;</span>Implement on Numpy</a></span></li></ul></li><li><span><a href=\"#Memory-Manerment\" data-toc-modified-id=\"Memory-Manerment-4\"><span class=\"toc-item-num\">4&nbsp;&nbsp;</span>Memory Manerment</a></span><ul class=\"toc-item\"><li><span><a href=\"#Useful-Command\" data-toc-modified-id=\"Useful-Command-4.1\"><span class=\"toc-item-num\">4.1&nbsp;&nbsp;</span>Useful Command</a></span></li><li><span><a href=\"#Memory-Operations\" data-toc-modified-id=\"Memory-Operations-4.2\"><span class=\"toc-item-num\">4.2&nbsp;&nbsp;</span>Memory Operations</a></span><ul class=\"toc-item\"><li><span><a href=\"#Case-1\" data-toc-modified-id=\"Case-1-4.2.1\"><span class=\"toc-item-num\">4.2.1&nbsp;&nbsp;</span>Case 1</a></span></li><li><span><a href=\"#Case-2\" data-toc-modified-id=\"Case-2-4.2.2\"><span class=\"toc-item-num\">4.2.2&nbsp;&nbsp;</span>Case 2</a></span></li></ul></li></ul></li></ul></div>"
   ]
  },
  {
   "cell_type": "markdown",
   "metadata": {},
   "source": [
    "## Useful Commands\n",
    "\n",
    "### login remotely\n",
    "```shellscript\n",
    "ssh username@ip\n",
    "```\n",
    "\n",
    "### start jupyter notebook remotely\n",
    "```shellscript\n",
    "jupyter notebook --no-browser --port=8889\n",
    "```\n",
    "Start a new terminal and type in\n",
    "```\n",
    "ssh -N -L localhost:8888:localhost:8889 username@ip\n",
    "```\n",
    "You can copy \n",
    "```\n",
    "http://localhost:8889/?token=d6b9097e0e3b3c1037be73e0513687ca47978f725558781c\n",
    "```\n",
    "Replace it with the port numer and paste it on web browser.\n",
    "```\n",
    "http://localhost:8888/?token=d6b9097e0e3b3c1037be73e0513687ca47978f725558781c\n",
    "```\n",
    "\n",
    "### Conda Environment\n",
    "```\n",
    "conda env list\n",
    "```\n",
    "```\n",
    "source activate pytorch1.0\n",
    "```\n",
    "\n",
    "### Check GPU use\n",
    "```\n",
    "nvidia-smi\n",
    "```\n",
    "\n",
    "```\n",
    "watch -n0.5 nvidia-smi\n",
    "```"
   ]
  },
  {
   "cell_type": "markdown",
   "metadata": {},
   "source": [
    "## Example for Monte Carlo Integration for Pi with CPU\n",
    "\n",
    "ref: http://www.robots.ox.ac.uk/~bradley/blog/2018/05/Estimating-pi-with-Monte-Carlo-Integration.html"
   ]
  },
  {
   "cell_type": "code",
   "execution_count": 3,
   "metadata": {
    "ExecuteTime": {
     "end_time": "2018-11-19T20:26:29.474085Z",
     "start_time": "2018-11-19T20:26:28.829973Z"
    }
   },
   "outputs": [
    {
     "name": "stdout",
     "output_type": "stream",
     "text": [
      "setGPU: Setting GPU to: 1\n"
     ]
    }
   ],
   "source": [
    "import setGPU # Use the least-load GPU\n",
    "import torch\n",
    "import numpy as np\n",
    "import matplotlib.pyplot as plt\n",
    "from matplotlib.lines import Line2D\n",
    "import seaborn as sns\n",
    "import time"
   ]
  },
  {
   "cell_type": "code",
   "execution_count": 4,
   "metadata": {
    "ExecuteTime": {
     "end_time": "2018-11-19T20:26:30.382138Z",
     "start_time": "2018-11-19T20:26:29.779841Z"
    }
   },
   "outputs": [
    {
     "name": "stdout",
     "output_type": "stream",
     "text": [
      "The value of integral is : 3.1456000000000004 \n",
      " and he value of pi is approximately: 3.1456000000000004 \n"
     ]
    },
    {
     "data": {
      "text/plain": [
       "<Figure size 432x288 with 0 Axes>"
      ]
     },
     "metadata": {},
     "output_type": "display_data"
    },
    {
     "data": {
      "image/png": "[encoded data removed]",
      "text/plain": [
       "<Figure size 432x288 with 1 Axes>"
      ]
     },
     "metadata": {
      "needs_background": "light"
     },
     "output_type": "display_data"
    }
   ],
   "source": [
    "plt.clf()\n",
    "r = 1\n",
    "N= 100000\n",
    "px = torch.distributions.Uniform(low=-r*torch.ones(N), high=r*torch.ones(N)).sample().numpy()\n",
    "py = torch.distributions.Uniform(low=-r*torch.ones(N), high=r*torch.ones(N)).sample().numpy()\n",
    "p  = np.concatenate((px.reshape(N,1),py.reshape(N,1)), axis=-1)\n",
    "p_rr= (p[:,0]**2 + p[:,1]**2)\n",
    "p_accept = p[np.where(p_rr <= r**2)]\n",
    "p_reject = p[np.where(p_rr>r**2)]\n",
    "fig, ax = plt.subplots()\n",
    "ax.plot(p_accept[:,0], p_accept[:,1], 'r.', label='Accepted')\n",
    "ax.plot(p_reject[:,0], p_reject[:,1], 'b.', label='Rejected')\n",
    "plt.legend()\n",
    "plt.show\n",
    "print('The value of integral is : {0} \\n and he value of pi is approximately: {1} '.format(4*r**2 * 1/N * len(p_accept), 4 * 1/N * len(p_accept)))"
   ]
  },
  {
   "cell_type": "markdown",
   "metadata": {},
   "source": [
    "## Example for Multivariate Gaussian Integrals with Monte Carlo\n",
    "### Implement on Pytorch"
   ]
  },
  {
   "cell_type": "code",
   "execution_count": 5,
   "metadata": {
    "ExecuteTime": {
     "end_time": "2018-11-19T20:26:36.657120Z",
     "start_time": "2018-11-19T20:26:31.892922Z"
    }
   },
   "outputs": [
    {
     "name": "stdout",
     "output_type": "stream",
     "text": [
      "tensor(0.3984, device='cuda:0')\n",
      "Time elapsed 4.747890472412109  seconds\n"
     ]
    }
   ],
   "source": [
    "timer = time.time()\n",
    "M=100;\n",
    "sigc=0.1;\n",
    "C=sigc/10*torch.randn(M, M).cuda()+torch.eye(M).cuda()\n",
    "C=C*C.t()\n",
    "Sum=0;\n",
    "N=10**2;\n",
    "batch_size=int(10**4*8);\n",
    "Threshold=torch.nn.Threshold(0.0, 0,inplace=True)\n",
    "P=torch.distributions.multivariate_normal.MultivariateNormal(torch.zeros(M).cuda(),  covariance_matrix=C)\n",
    "for i in range(N):\n",
    "    Sample=P.sample((batch_size,));\n",
    "    Threshold(Sample, )\n",
    "    Sum=Sum+torch.mean(Sample)\n",
    "print (Sum/N)\n",
    "del Sample, C, P\n",
    "torch.cuda.empty_cache()\n",
    "print('Time elapsed', -timer+time.time(), ' seconds')"
   ]
  },
  {
   "cell_type": "code",
   "execution_count": 6,
   "metadata": {
    "ExecuteTime": {
     "end_time": "2018-11-19T20:26:36.662214Z",
     "start_time": "2018-11-19T20:26:36.658613Z"
    }
   },
   "outputs": [
    {
     "data": {
      "text/plain": [
       "tensor([1.5000, 0.0000])"
      ]
     },
     "execution_count": 6,
     "metadata": {},
     "output_type": "execute_result"
    }
   ],
   "source": [
    "# Example of Threshold function\n",
    "Threshold(torch.tensor([1.5 ,-1]))"
   ]
  },
  {
   "cell_type": "markdown",
   "metadata": {},
   "source": [
    "### Implement on Numpy"
   ]
  },
  {
   "cell_type": "code",
   "execution_count": 5,
   "metadata": {
    "ExecuteTime": {
     "end_time": "2018-11-14T16:38:04.311099Z",
     "start_time": "2018-11-14T16:37:27.289042Z"
    }
   },
   "outputs": [
    {
     "name": "stdout",
     "output_type": "stream",
     "text": [
      "0.39895619959728845\n",
      "Time elapsed 37.01294231414795  seconds\n"
     ]
    }
   ],
   "source": [
    "timer = time.time()\n",
    "M=100\n",
    "size=int(8*10**4)\n",
    "mean = np.zeros(M);\n",
    "cov = np.eye(M);\n",
    "x = np.random.multivariate_normal(mean, cov, (size))\n",
    "N=10**2\n",
    "Sum=0\n",
    "for i in range(N):\n",
    "    x = np.random.multivariate_normal(mean, cov, (size))\n",
    "    x[np.where(x<0)]=0\n",
    "    Sum=Sum+np.mean(x)\n",
    "print (Sum/N)\n",
    "print('Time elapsed', time.time()-timer, ' seconds')"
   ]
  },
  {
   "cell_type": "markdown",
   "metadata": {},
   "source": [
    "## Memory Manerment\n",
    "### Useful Command\n",
    "\n",
    "```shellscript\n",
    "htop\n",
    "```\n",
    "\n",
    "```shellscript\n",
    "watch -n0.5 free -m\n",
    "```\n",
    "### Memory Operations\n",
    "\n",
    "#### Case 1\n",
    "Transformation from `numpy.array` to `torch.tensor` does not increase RAM memory\n",
    "\n",
    "\n",
    "ref: https://discuss.pytorch.org/t/how-to-clear-some-gpu-memory/1945"
   ]
  },
  {
   "cell_type": "code",
   "execution_count": 7,
   "metadata": {
    "ExecuteTime": {
     "end_time": "2018-11-15T20:27:02.977181Z",
     "start_time": "2018-11-15T20:27:02.355440Z"
    }
   },
   "outputs": [],
   "source": [
    "n = 2**14\n",
    "a_2GB = np.ones((n, n))  # RAM: +2GB"
   ]
  },
  {
   "cell_type": "code",
   "execution_count": 8,
   "metadata": {
    "ExecuteTime": {
     "end_time": "2018-11-15T20:27:09.643135Z",
     "start_time": "2018-11-15T20:27:09.638269Z"
    }
   },
   "outputs": [],
   "source": [
    "a_2GB_torch = torch.from_numpy(a_2GB)  # RAM: Same"
   ]
  },
  {
   "cell_type": "code",
   "execution_count": 27,
   "metadata": {
    "ExecuteTime": {
     "end_time": "2018-11-15T20:39:35.816025Z",
     "start_time": "2018-11-15T20:39:35.811730Z"
    }
   },
   "outputs": [],
   "source": [
    "del a_2GB  # RAM: Same"
   ]
  },
  {
   "cell_type": "code",
   "execution_count": 28,
   "metadata": {
    "ExecuteTime": {
     "end_time": "2018-11-15T20:39:38.317554Z",
     "start_time": "2018-11-15T20:39:38.236256Z"
    }
   },
   "outputs": [],
   "source": [
    "del a_2GB_torch  # RAM: -2GB"
   ]
  },
  {
   "cell_type": "markdown",
   "metadata": {
    "collapsed": true
   },
   "source": [
    "#### Case 2\n",
    "\n",
    "After creating an variable `a_2GB_torch_gpu` at GPU, `del a_2GB_torch_gpu`  does not free the memory in GPU.\n",
    "\n",
    "\n",
    "The meory is stored in GPU for reuse until clean it with `torch.cuda.empty_cache()`\n"
   ]
  },
  {
   "cell_type": "code",
   "execution_count": 30,
   "metadata": {
    "ExecuteTime": {
     "end_time": "2018-11-15T20:40:40.695675Z",
     "start_time": "2018-11-15T20:40:39.765172Z"
    }
   },
   "outputs": [],
   "source": [
    "n = 2**14\n",
    "a_2GB = np.ones((n, n))  # RAM: +2GB\n",
    "a_2GB_torch = torch.from_numpy(a_2GB)  # RAM: Same\n",
    "a_2GB_torch_gpu = a_2GB_torch.cuda()  # RAM: same, GPU: +2GB "
   ]
  },
  {
   "cell_type": "code",
   "execution_count": 31,
   "metadata": {
    "ExecuteTime": {
     "end_time": "2018-11-15T20:40:42.385326Z",
     "start_time": "2018-11-15T20:40:42.381179Z"
    }
   },
   "outputs": [],
   "source": [
    "del a_2GB_torch_gpu  # RAM: Same, GPU: Same"
   ]
  },
  {
   "cell_type": "code",
   "execution_count": 32,
   "metadata": {
    "ExecuteTime": {
     "end_time": "2018-11-15T20:40:43.845993Z",
     "start_time": "2018-11-15T20:40:43.836995Z"
    }
   },
   "outputs": [],
   "source": [
    "torch.cuda.empty_cache() # clear Cache  RAM: same, GPU: -2GB"
   ]
  },
  {
   "cell_type": "code",
   "execution_count": 33,
   "metadata": {
    "ExecuteTime": {
     "end_time": "2018-11-15T20:40:45.381150Z",
     "start_time": "2018-11-15T20:40:45.028976Z"
    }
   },
   "outputs": [],
   "source": [
    "a_2GB_torch_gpu= a_2GB_torch.cuda() # RAM: same, GPU: +2GB\n",
    "del a_2GB_torch_gpu  # RAM: same, GPU: same"
   ]
  },
  {
   "cell_type": "code",
   "execution_count": 34,
   "metadata": {
    "ExecuteTime": {
     "end_time": "2018-11-15T20:40:48.426266Z",
     "start_time": "2018-11-15T20:40:48.061809Z"
    }
   },
   "outputs": [],
   "source": [
    "a_2GB_torch_gpu_2 = a_2GB_torch.cuda()  # RAM: same, GPU: same"
   ]
  },
  {
   "cell_type": "code",
   "execution_count": 35,
   "metadata": {
    "ExecuteTime": {
     "end_time": "2018-11-15T20:40:51.495463Z",
     "start_time": "2018-11-15T20:40:51.132875Z"
    }
   },
   "outputs": [],
   "source": [
    "a_2GB_torch_gpu_3 = a_2GB_torch.cuda()  # RAM: same, GPU: +2GB"
   ]
  },
  {
   "cell_type": "code",
   "execution_count": null,
   "metadata": {},
   "outputs": [],
   "source": []
  }
 ],
 "metadata": {
  "kernelspec": {
   "display_name": "pytorch1.0",
   "language": "python",
   "name": "pytorch1.0"
  },
  "language_info": {
   "codemirror_mode": {
    "name": "ipython",
    "version": 3
   },
   "file_extension": ".py",
   "mimetype": "text/x-python",
   "name": "python",
   "nbconvert_exporter": "python",
   "pygments_lexer": "ipython3",
   "version": "3.7.0"
  },
  "latex_envs": {
   "LaTeX_envs_menu_present": true,
   "autoclose": false,
   "autocomplete": true,
   "bibliofile": "biblio.bib",
   "cite_by": "apalike",
   "current_citInitial": 1,
   "eqLabelWithNumbers": true,
   "eqNumInitial": 1,
   "hotkeys": {
    "equation": "Ctrl-E",
    "itemize": "Ctrl-I"
   },
   "labels_anchors": false,
   "latex_user_defs": false,
   "report_style_numbering": false,
   "user_envs_cfg": false
  },
  "toc": {
   "base_numbering": 1,
   "nav_menu": {},
   "number_sections": true,
   "sideBar": true,
   "skip_h1_title": true,
   "title_cell": "Table of Contents",
   "title_sidebar": "Contents",
   "toc_cell": true,
   "toc_position": {
    "height": "calc(100% - 180px)",
    "left": "10px",
    "top": "150px",
    "width": "238.722px"
   },
   "toc_section_display": true,
   "toc_window_display": true
  }
 },
 "nbformat": 4,
 "nbformat_minor": 2
}
